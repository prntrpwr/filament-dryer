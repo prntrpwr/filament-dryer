{
 "cells": [
  {
   "cell_type": "markdown",
   "id": "3b01fc68-4d5a-4bf3-993e-925b753f07cd",
   "metadata": {},
   "source": [
    "# Fan Airflow Test\n",
    "## Setup\n",
    "\n",
    "F001 -> Hose -> Venturi -> 25 gallon garbage bag\n",
    "\n",
    "Garbage bag held on with a rubber band wrapped around the exhaust side of the venturi\n",
    "\n",
    "Both measurement ports of venturi plugged with fingers\n",
    "\n",
    "Estimate diameter of rough sphere made by garbage back\n",
    "\n",
    "## Measurements\n",
    "24V fills 10 inch \"sphere\" of garbage bag in 10s\n",
    "\n",
    "17.5V fills 10 inch \"sphere\" of garbage bag in 10s\n",
    "\n",
    "13V moved 8.5 inch \"sphere\" of garbage bag in 10s\n"
   ]
  },
  {
   "cell_type": "markdown",
   "id": "f9c395b4-a845-4347-9146-16d093e6e578",
   "metadata": {},
   "source": [
    "# Static Fan Pressure Test\n",
    "## Setup\n",
    "F001 -> Hose -> Venturi -> Manometer/tube\n",
    "\n",
    "Manometer made from 1/4\" ID silicone tube with excess tube connected to venturi exhaust\n",
    "\n",
    "Measurement ports of venturi plugged with fingers\n",
    "\n",
    "Manometer can only be read from one side, so readings should be doubled to obtain actual pressures\n",
    "\n",
    "## Measurements\n",
    "\n",
    "24V makes 9.5mmH2O reading which is 19mmH2O actual pressure\n",
    "\n",
    "\n"
   ]
  },
  {
   "cell_type": "markdown",
   "id": "6b4879d0-0f4f-4c31-955f-4f6b8841c437",
   "metadata": {},
   "source": [
    "# Venturi Test\n",
    "## Setup\n",
    "Room -> F001 -> Hose -> (intake) Venturi (exhaust)-> Room\n",
    "\n",
    "Venturi (measurement throat) -> Manometer side A\n",
    "\n",
    "Venturi (measurement upstream) -> Manometer side B\n",
    "\n",
    "## Measurements\n",
    "\n",
    "24V makes a reading of 8mmH2O which is 16mmH2O actual pressure"
   ]
  },
  {
   "cell_type": "markdown",
   "id": "c4ccb93a-1901-4a2d-9ab5-45ab83c15b37",
   "metadata": {},
   "source": [
    "# Airflow Test #2\n",
    "## Setup\n",
    "## Measurement\n",
    "Put sealed garbage bag into a box with inside dimensions 10\" x 15.5\" Use piece of cardboard to push it down, filling corners as best as possible.  Measure height from bottom of box to piece of cardboard\n",
    "\n",
    "24V fan filling for 10s moved 10\" x 15.5\" x 5\" volume of air"
   ]
  },
  {
   "cell_type": "markdown",
   "id": "ab3f7d4f-6f57-476c-8033-d309296d10e9",
   "metadata": {},
   "source": [
    "# Venturi Test #2\n",
    "## Setup\n",
    "* Room -> F001 -> Hose -> (Intake) Venturi (Exhaust) -> Room\n",
    "* Venturi (measurement throat) -> Manometer left side\n",
    "* Venturi (measurement upstream) -> Manometer right side\n",
    "## Measurement\n",
    "24V fan reading is 9.2mmH2O which is 18.4mmH2O total pressure.  Air Temp 23.86C.  Air pressure 994.78hPa.  Relative humidity 48.17%\n",
    "\n",
    "| FAN VOLTAGE | FAN AMPERAGE | PRESSURE READING | PRESSURE ACTUAL |\n",
    "|-------------|--------------|------------------|-----------------|\n",
    "| 24V         | 0.076A       | 9.2mmH2O         | 18.4mmH2O       |\n",
    "| 17.5V       | 0.051A       | 8.0mmH2O         | 16.0mmH2O       |\n",
    "| 13V         | 0.036A       | 5.8mmH2O         | 11.6mmH2O       |\n",
    "\n",
    "Repeated measurements at 24V show that there is an intermittent leak"
   ]
  },
  {
   "cell_type": "markdown",
   "id": "7d49b92b-ccc6-45a3-8d7a-60e977567e06",
   "metadata": {},
   "source": [
    "# Venturi Test #3\n",
    "## Setup\n",
    "As \"Venturi Test #2,\" except better sealing around venturi tube's measurement ports\n",
    "\n",
    "## Measurement\n",
    "Measurements will be taken after jiggling the manometer tube\n",
    "\n",
    "24V 0.77A 9.2 (before jiggle)\n",
    "24V 0.73A 11.0 (after jiggle)\n",
    "0v 2.0 (before jiggle)\n",
    "0V 0.0 (after jiggle)\n",
    "\n",
    "\n"
   ]
  },
  {
   "cell_type": "markdown",
   "id": "5a491e17-d90a-4bbd-878d-cde62e1a9290",
   "metadata": {},
   "source": [
    "# Theory\n",
    "$ Q = v_1 A_1 = v_2 A_2$\n",
    "\n",
    "$ p_1 - p_2 = \\frac{\\rho}{2} (v_2^2 - v_1^2)$\n",
    "\n",
    "$ Q = A_2 \\sqrt{\\frac{2}{\\rho} . \\frac{(p_1 - p_2)}{1 - (\\frac{A_2}{A_1})^2}} $\n",
    "\n",
    "Q = volumetric flow rate (m3/s)\n",
    "A1, A2 cross sectional areas (m2)\n",
    "p1, p2 pressure (Pa)\n",
    "rho density (kg/m3)\n",
    "\n",
    "$ A1 = \\pi ( 5.95mm )^2 = 111.21mm^2 $\n",
    "\n",
    "$ A2 = \\pi ( 4.61mm )^2 = 66.76mm^2 $\n",
    "\n",
    "$ (p_1 - p_2) = 215.74Pa $\n",
    "\n",
    "$ \\rho = 1.16048kg/m^3 $ at 23.86C, 994.78hPa, 48.17%RH\n",
    "\n",
    "$ Q = (66.76mm^2) \\sqrt{\\frac{2}{1.16048kg/m^3} . \\frac{215.74 kg/ms^2}{1 - (\\frac{66.76mm^2}{111.21mm^2})^2}} $\n",
    "\n",
    "$ Q = (66.76mm^2) (24.109m/s) = (66.76mm^2) (24109mm/s) = 1609579mm^3/s $\n",
    "\n",
    "$1609579mm^3/s \\frac{1in}{25.4mm}\\frac{1in}{25.4mm}\\frac{1in}{25.4mm} = 98.22in^3/s $\n",
    "\n",
    "$ 98.22in^3/s\\frac{60s}{1min} = 5893in^3/min $\n",
    "\n",
    "$ 5893inin^3/min \\frac{1ft}{12in}\\frac{1ft}{12in}\\frac{1ft}{12in} = 3.41ft^3/min $\n",
    "\n",
    "$ \\boldsymbol {3.41ft^3/min} $"
   ]
  },
  {
   "cell_type": "code",
   "execution_count": 125,
   "id": "7f5d0043-27ec-417d-adbc-8b9be67f2b06",
   "metadata": {},
   "outputs": [
    {
     "name": "stdout",
     "output_type": "stream",
     "text": [
      "velocity is 24.10993629456626 m/s\n",
      "volumetrc flow is 0.0016095793470252437 m3/s\n",
      "volumetric flow is 3.4105050816568445 cfm\n"
     ]
    }
   ],
   "source": [
    "# In python\n",
    "import math\n",
    "\n",
    "air_density = 1.16048 # kg/m3\n",
    "pressure_difference = 215.74 # kg/m/s2\n",
    "area1 = 66.76 / 1000.0 / 1000.0 # m2\n",
    "area2 = 111.21 / 1000.0 / 1000.0 # m2\n",
    "velocity = math.sqrt( (2.0/air_density) * (pressure_difference/(1.0 - (area1/area2) ** 2)) ) # m/s\n",
    "print(f\"velocity is {velocity} m/s\")\n",
    "\n",
    "volume_flow = area1 * velocity\n",
    "print(f\"volumetrc flow is {volume_flow} m3/s\")\n",
    "print(f\"volumetric flow is {volume_flow * 60 / 0.02831685 } cfm\")"
   ]
  },
  {
   "cell_type": "markdown",
   "id": "bc0318cf-70ae-4f93-8b91-1f004a7c9f42",
   "metadata": {},
   "source": [
    "# Different Venturi Diameter Ratios\n",
    "3 new, parametric venturi were designed and printed using the same tube size of 11.9mm ID, but with diameter ratios for the throat of 0.33, 0.50, and 0.774\n",
    "## Setup\n",
    "Room -> F002 -> Hose -> T2 -> T1 -> Hose -> Venturi -> Room\n",
    "\n",
    "Test script edited for `test_fan_step_pwm_pressure(10)`\n",
    "\n",
    "## Test VNT001 0.774 diameter ratio (4.61mm throat)\n",
    "\n",
    "`python src/filament-dryer-controller.py -p /dev/serial/by-id/usb-Arduino__www.arduino.cc__0042_55431313238351E06131-if00 -d 2024-10-16-test_fan_step-1.csv`\n",
    "\n",
    "## Test VNT002 0.50 diameter ratio\n",
    "`python src/filament-dryer-controller.py -p /dev/serial/by-id/usb-Arduino__www.arduino.cc__0042_55431313238351E06131-if00 -d 2024-10-16-test_fan_step-2.csv`\n",
    "\n",
    "## Test VNT003 0.33 diameter ratio\n",
    "`python src/filament-dryer-controller.py -p /dev/serial/by-id/usb-Arduino__www.arduino.cc__0042_55431313238351E06131-if00 -d 2024-10-16-test_fan_step-3.csv`"
   ]
  }
 ],
 "metadata": {
  "kernelspec": {
   "display_name": "Python 3 (ipykernel)",
   "language": "python",
   "name": "python3"
  },
  "language_info": {
   "codemirror_mode": {
    "name": "ipython",
    "version": 3
   },
   "file_extension": ".py",
   "mimetype": "text/x-python",
   "name": "python",
   "nbconvert_exporter": "python",
   "pygments_lexer": "ipython3",
   "version": "3.12.4"
  }
 },
 "nbformat": 4,
 "nbformat_minor": 5
}
